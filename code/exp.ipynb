{
 "cells": [
  {
   "cell_type": "code",
   "execution_count": null,
   "metadata": {},
   "outputs": [],
   "source": [
    "import arcpy\n",
    "import pandas as pd\n",
    "\n",
    "PROJ_PATH = \"C:/Users/bento/final_project/woodpeckerNC/woodpeckerNC.aprx\"\n",
    "proj = arcpy.mp.ArcGISProject(PROJ_PATH)\n",
    "DB_PATH = proj.defaultGeodatabase \n",
    "arcpy.env.workspace = DB_PATH\n",
    "\n",
    "sensitivity_table = \"Pileated_Woodpecker_NC_Sensitivity_Table_1\"\n",
    "\n",
    "field_names = [field.name for field in arcpy.ListFields(sensitivity_table)]\n",
    "with arcpy.da.SearchCursor(sensitivity_table, \n",
    "                           ['CUTOFF', 'FPR', 'TPR', 'FNR', 'TNR', 'SENSE', 'SPEC']) as cursor:\n",
    "    vals = [\n",
    "        {\n",
    "            \"cutoff\": cutoff,\n",
    "            \"FP\": FP,\n",
    "            \"TP\": TP,\n",
    "            \"FN\": FN,\n",
    "            \"TN\": TN,\n",
    "            \"recall\": recall,\n",
    "            \"specificity\": specificity,\n",
    "            \"precision\": TP / (TP + FP),\n",
    "            \"f1\": 2 * ((TP / (TP + FP)) * recall) / ((TP / (TP + FP)) + recall),\n",
    "        }\n",
    "        for (cutoff, FP, TP, FN, TN, recall, specificity) in cursor\n",
    "    ]\n",
    "df = pd.DataFrame.from_dict(vals)\n",
    "\n",
    "print(f\"Max F1: {round(max(df.f1), 4)}\")\n",
    "print(f\"Best Cutoff: {round(df.loc[df.f1 == max(df.f1)].cutoff.iloc[0], 2)}\")\n",
    "\n",
    "df\n"
   ]
  },
  {
   "cell_type": "code",
   "execution_count": 6,
   "metadata": {},
   "outputs": [
    {
     "name": "stdout",
     "output_type": "stream",
     "text": [
      "C:/Users/bento/final_project/woodpeckerNC/data/model_data\\Pileated_Woodpecker_model_data.pickle\n"
     ]
    },
    {
     "data": {
      "text/plain": [
       "{'number_of_iterations': 20,\n",
       " 'basis_expansion_functions': 'THRESHOLD',\n",
       " 'relative_weight': 50,\n",
       " 'number_knots': 50,\n",
       " 'spatial_thinning': 'THINNING',\n",
       " 'link_function': 'CLOGLOG',\n",
       " 'thinning_distance_band': '2500 Meters'}"
      ]
     },
     "execution_count": 6,
     "metadata": {},
     "output_type": "execute_result"
    }
   ],
   "source": [
    "import os\n",
    "import pickle\n",
    "\n",
    "model_data_path = \"C:/Users/bento/final_project/woodpeckerNC/data/model_data\"\n",
    "s = \"Pileated_Woodpecker\"\n",
    "file = os.path.join(model_data_path, f\"{s}_model_data.pickle\")\n",
    "print(file)\n",
    "\n",
    "with open(file, \"rb\") as f:\n",
    "    cached_model_data = pickle.load(f)\n",
    "\n",
    "cached_model_data['params']"
   ]
  },
  {
   "cell_type": "code",
   "execution_count": null,
   "metadata": {},
   "outputs": [],
   "source": [
    "log_path = os.path.join(model_data_path, \"model_training_logs\")\n",
    "\n",
    "all_params = \n",
    "files = os.listdir(log_path)\n",
    "    for file in files:\n",
    "        file_path = os.path.join(log_path, file)\n",
    "        with open(file_path, 'r') as f:\n",
    "            file_dict = json.load(f)"
   ]
  },
  {
   "cell_type": "code",
   "execution_count": 12,
   "metadata": {},
   "outputs": [
    {
     "data": {
      "text/plain": [
       "120"
      ]
     },
     "execution_count": 12,
     "metadata": {},
     "output_type": "execute_result"
    }
   ],
   "source": [
    "import itertools\n",
    "\n",
    "parameter_grid = {\n",
    "    \"number_of_iterations\": [10, 20],\n",
    "    \"basis_expansion_functions\":[\"HINGE\", \"LINEAR\", \"THRESHOLD\", \"QUADRATIC\"], # \"PRODUCT\"\n",
    "    \"relative_weight\": [35, 50, 100],\n",
    "    \"number_knots\":[10, 50], \n",
    "    \"spatial_thinning\": [\"NO_THINNING\", \"THINNING\"],\n",
    "    \"link_function\": [\"CLOGLOG\"], # \"LOGISTIC\"\n",
    "    \"thinning_distance_band\": [\"1000 Meters\", \"2500 Meters\"] # \"5000 Meters\"\n",
    "}\n",
    "def getAllCombos(parameter_grid:dict) -> dict:\n",
    "    # Generate all combinations of parameters\n",
    "    if \"NO_THINNING\" not in parameter_grid[\"spatial_thinning\"]:\n",
    "        all_combinations = list(itertools.product(*parameter_grid.values()))\n",
    "    elif \"THINNING\" not in parameter_grid[\"spatial_thinning\"]:\n",
    "        # Generate combinations for NO_THINNING\n",
    "        all_combinations = [\n",
    "            (None, basis_expansion, weight, knots, \"NO_THINNING\", link_function, None)\n",
    "            for basis_expansion, weight, knots, link_function\n",
    "            in itertools.product(\n",
    "                parameter_grid[\"basis_expansion_functions\"],\n",
    "                parameter_grid[\"relative_weight\"],\n",
    "                parameter_grid[\"number_knots\"],\n",
    "                parameter_grid[\"link_function\"]\n",
    "            )\n",
    "        ]\n",
    "    else:\n",
    "        # Generate combinations for NO_THINNING\n",
    "        no_thinning_combinations = [\n",
    "            (None, basis_expansion, weight, knots, \"NO_THINNING\", link_function, None)\n",
    "            for basis_expansion, weight, knots, link_function\n",
    "            in itertools.product(\n",
    "                parameter_grid[\"basis_expansion_functions\"],\n",
    "                parameter_grid[\"relative_weight\"],\n",
    "                parameter_grid[\"number_knots\"],\n",
    "                parameter_grid[\"link_function\"]\n",
    "            )\n",
    "        ]\n",
    "        # Generate combinations for THINNING\n",
    "        thinning_combinations = list(itertools.product(\n",
    "            parameter_grid[\"number_of_iterations\"],\n",
    "            parameter_grid[\"basis_expansion_functions\"],\n",
    "            parameter_grid[\"relative_weight\"],\n",
    "            parameter_grid[\"number_knots\"],\n",
    "            [\"THINNING\"],\n",
    "            parameter_grid[\"link_function\"],\n",
    "            parameter_grid[\"thinning_distance_band\"]\n",
    "        ))\n",
    "        # Combine the two lists of combinations\n",
    "        all_combinations = no_thinning_combinations + thinning_combinations\n",
    "    return all_combinations\n",
    "\n",
    "len(getAllCombos(parameter_grid))"
   ]
  },
  {
   "cell_type": "code",
   "execution_count": 23,
   "metadata": {},
   "outputs": [],
   "source": []
  },
  {
   "cell_type": "code",
   "execution_count": 1,
   "metadata": {},
   "outputs": [
    {
     "ename": "NameError",
     "evalue": "name 'brd_rasters' is not defined",
     "output_type": "error",
     "traceback": [
      "\u001b[1;31m---------------------------------------------------------------------------\u001b[0m",
      "\u001b[1;31mNameError\u001b[0m                                 Traceback (most recent call last)",
      "\u001b[1;32m<ipython-input-1-5fe3e489313e>\u001b[0m in \u001b[0;36m<module>\u001b[1;34m\u001b[0m\n\u001b[0;32m      1\u001b[0m \u001b[1;31m# Loop through each trained raster\u001b[0m\u001b[1;33m\u001b[0m\u001b[1;33m\u001b[0m\u001b[1;33m\u001b[0m\u001b[0m\n\u001b[1;32m----> 2\u001b[1;33m \u001b[1;32mfor\u001b[0m \u001b[0mraster\u001b[0m \u001b[1;32min\u001b[0m \u001b[0mbrd_rasters\u001b[0m\u001b[1;33m.\u001b[0m\u001b[0mkeys\u001b[0m\u001b[1;33m(\u001b[0m\u001b[1;33m)\u001b[0m\u001b[1;33m:\u001b[0m\u001b[1;33m\u001b[0m\u001b[1;33m\u001b[0m\u001b[0m\n\u001b[0m\u001b[0;32m      3\u001b[0m     \u001b[1;31m# Get species name\u001b[0m\u001b[1;33m\u001b[0m\u001b[1;33m\u001b[0m\u001b[1;33m\u001b[0m\u001b[0m\n\u001b[0;32m      4\u001b[0m     \u001b[0mspecies_name\u001b[0m \u001b[1;33m=\u001b[0m \u001b[0mbrd_rasters\u001b[0m\u001b[1;33m[\u001b[0m\u001b[0mraster\u001b[0m\u001b[1;33m]\u001b[0m\u001b[1;33m\u001b[0m\u001b[1;33m\u001b[0m\u001b[0m\n\u001b[0;32m      5\u001b[0m     \u001b[0mprint\u001b[0m\u001b[1;33m(\u001b[0m\u001b[1;34mf\"Adding {species_name} raster layer to map...\"\u001b[0m\u001b[1;33m)\u001b[0m\u001b[1;33m\u001b[0m\u001b[1;33m\u001b[0m\u001b[0m\n",
      "\u001b[1;31mNameError\u001b[0m: name 'brd_rasters' is not defined"
     ]
    }
   ],
   "source": []
  }
 ],
 "metadata": {
  "kernelspec": {
   "display_name": "Python 3",
   "language": "python",
   "name": "python3"
  },
  "language_info": {
   "codemirror_mode": {
    "name": "ipython",
    "version": 3
   },
   "file_extension": ".py",
   "mimetype": "text/x-python",
   "name": "python",
   "nbconvert_exporter": "python",
   "pygments_lexer": "ipython3",
   "version": "3.7.11"
  },
  "orig_nbformat": 4
 },
 "nbformat": 4,
 "nbformat_minor": 2
}
