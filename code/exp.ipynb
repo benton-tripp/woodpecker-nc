{
 "cells": [
  {
   "cell_type": "code",
   "execution_count": null,
   "metadata": {},
   "outputs": [],
   "source": [
    "import arcpy\n",
    "import pandas as pd\n",
    "\n",
    "PROJ_PATH = \"C:/Users/bento/final_project/woodpeckerNC/woodpeckerNC.aprx\"\n",
    "proj = arcpy.mp.ArcGISProject(PROJ_PATH)\n",
    "DB_PATH = proj.defaultGeodatabase \n",
    "arcpy.env.workspace = DB_PATH\n",
    "\n",
    "sensitivity_table = \"Pileated_Woodpecker_NC_Sensitivity_Table_1\"\n",
    "\n",
    "field_names = [field.name for field in arcpy.ListFields(sensitivity_table)]\n",
    "with arcpy.da.SearchCursor(sensitivity_table, \n",
    "                           ['CUTOFF', 'FPR', 'TPR', 'FNR', 'TNR', 'SENSE', 'SPEC']) as cursor:\n",
    "    vals = [\n",
    "        {\n",
    "            \"cutoff\": cutoff,\n",
    "            \"FP\": FP,\n",
    "            \"TP\": TP,\n",
    "            \"FN\": FN,\n",
    "            \"TN\": TN,\n",
    "            \"recall\": recall,\n",
    "            \"specificity\": specificity,\n",
    "            \"precision\": TP / (TP + FP),\n",
    "            \"f1\": 2 * ((TP / (TP + FP)) * recall) / ((TP / (TP + FP)) + recall),\n",
    "        }\n",
    "        for (cutoff, FP, TP, FN, TN, recall, specificity) in cursor\n",
    "    ]\n",
    "df = pd.DataFrame.from_dict(vals)\n",
    "\n",
    "print(f\"Max F1: {round(max(df.f1), 4)}\")\n",
    "print(f\"Best Cutoff: {round(df.loc[df.f1 == max(df.f1)].cutoff.iloc[0], 2)}\")\n",
    "\n",
    "df\n"
   ]
  },
  {
   "cell_type": "code",
   "execution_count": 6,
   "metadata": {},
   "outputs": [
    {
     "name": "stdout",
     "output_type": "stream",
     "text": [
      "C:/Users/bento/final_project/woodpeckerNC/data/model_data\\Pileated_Woodpecker_model_data.pickle\n"
     ]
    },
    {
     "data": {
      "text/plain": [
       "{'number_of_iterations': 20,\n",
       " 'basis_expansion_functions': 'THRESHOLD',\n",
       " 'relative_weight': 50,\n",
       " 'number_knots': 50,\n",
       " 'spatial_thinning': 'THINNING',\n",
       " 'link_function': 'CLOGLOG',\n",
       " 'thinning_distance_band': '2500 Meters'}"
      ]
     },
     "execution_count": 6,
     "metadata": {},
     "output_type": "execute_result"
    }
   ],
   "source": [
    "import os\n",
    "import pickle\n",
    "\n",
    "model_data_path = \"C:/Users/bento/final_project/woodpeckerNC/data/model_data\"\n",
    "s = \"Pileated_Woodpecker\"\n",
    "file = os.path.join(model_data_path, f\"{s}_model_data.pickle\")\n",
    "print(file)\n",
    "\n",
    "with open(file, \"rb\") as f:\n",
    "    cached_model_data = pickle.load(f)\n",
    "\n",
    "cached_model_data['params']"
   ]
  },
  {
   "cell_type": "code",
   "execution_count": null,
   "metadata": {},
   "outputs": [],
   "source": [
    "log_path = os.path.join(model_data_path, \"model_training_logs\")\n",
    "\n",
    "all_params = \n",
    "files = os.listdir(log_path)\n",
    "    for file in files:\n",
    "        file_path = os.path.join(log_path, file)\n",
    "        with open(file_path, 'r') as f:\n",
    "            file_dict = json.load(f)"
   ]
  },
  {
   "cell_type": "code",
   "execution_count": 12,
   "metadata": {},
   "outputs": [
    {
     "data": {
      "text/plain": [
       "120"
      ]
     },
     "execution_count": 12,
     "metadata": {},
     "output_type": "execute_result"
    }
   ],
   "source": [
    "import itertools\n",
    "\n",
    "parameter_grid = {\n",
    "    \"number_of_iterations\": [10, 20],\n",
    "    \"basis_expansion_functions\":[\"HINGE\", \"LINEAR\", \"THRESHOLD\", \"QUADRATIC\"], # \"PRODUCT\"\n",
    "    \"relative_weight\": [35, 50, 100],\n",
    "    \"number_knots\":[10, 50], \n",
    "    \"spatial_thinning\": [\"NO_THINNING\", \"THINNING\"],\n",
    "    \"link_function\": [\"CLOGLOG\"], # \"LOGISTIC\"\n",
    "    \"thinning_distance_band\": [\"1000 Meters\", \"2500 Meters\"] # \"5000 Meters\"\n",
    "}\n",
    "def getAllCombos(parameter_grid:dict) -> dict:\n",
    "    # Generate all combinations of parameters\n",
    "    if \"NO_THINNING\" not in parameter_grid[\"spatial_thinning\"]:\n",
    "        all_combinations = list(itertools.product(*parameter_grid.values()))\n",
    "    elif \"THINNING\" not in parameter_grid[\"spatial_thinning\"]:\n",
    "        # Generate combinations for NO_THINNING\n",
    "        all_combinations = [\n",
    "            (None, basis_expansion, weight, knots, \"NO_THINNING\", link_function, None)\n",
    "            for basis_expansion, weight, knots, link_function\n",
    "            in itertools.product(\n",
    "                parameter_grid[\"basis_expansion_functions\"],\n",
    "                parameter_grid[\"relative_weight\"],\n",
    "                parameter_grid[\"number_knots\"],\n",
    "                parameter_grid[\"link_function\"]\n",
    "            )\n",
    "        ]\n",
    "    else:\n",
    "        # Generate combinations for NO_THINNING\n",
    "        no_thinning_combinations = [\n",
    "            (None, basis_expansion, weight, knots, \"NO_THINNING\", link_function, None)\n",
    "            for basis_expansion, weight, knots, link_function\n",
    "            in itertools.product(\n",
    "                parameter_grid[\"basis_expansion_functions\"],\n",
    "                parameter_grid[\"relative_weight\"],\n",
    "                parameter_grid[\"number_knots\"],\n",
    "                parameter_grid[\"link_function\"]\n",
    "            )\n",
    "        ]\n",
    "        # Generate combinations for THINNING\n",
    "        thinning_combinations = list(itertools.product(\n",
    "            parameter_grid[\"number_of_iterations\"],\n",
    "            parameter_grid[\"basis_expansion_functions\"],\n",
    "            parameter_grid[\"relative_weight\"],\n",
    "            parameter_grid[\"number_knots\"],\n",
    "            [\"THINNING\"],\n",
    "            parameter_grid[\"link_function\"],\n",
    "            parameter_grid[\"thinning_distance_band\"]\n",
    "        ))\n",
    "        # Combine the two lists of combinations\n",
    "        all_combinations = no_thinning_combinations + thinning_combinations\n",
    "    return all_combinations\n",
    "\n",
    "len(getAllCombos(parameter_grid))"
   ]
  },
  {
   "cell_type": "code",
   "execution_count": 2,
   "metadata": {},
   "outputs": [],
   "source": [
    "\n",
    "import os\n",
    "import arcpy \n",
    "\n",
    "data_path=\"C:/Users/bento/final_project/woodpeckerNC/data\"\n",
    "wspace=\"C:/Users/bento/final_project/woodpeckerNC/woodpeckerNC.gdb\"\n",
    "coord_sys = arcpy.SpatialReference(\"NAD 1983 StatePlane North Carolina FIPS 3200 (US Feet)\")\n",
    "\n",
    "# Set workspace\n",
    "arcpy.env.workspace = wspace\n",
    "\n",
    "# Get NC Boundary Shape File if not downloaded\n",
    "nc_shp_path = os.path.join(data_path, \"nc_state_boundary\")\n",
    "nc_shp_file = os.path.join(nc_shp_path, \"tl_2018_37_cousub.shp\")\n",
    "os.makedirs(nc_shp_path, exist_ok=True)"
   ]
  },
  {
   "cell_type": "code",
   "execution_count": 4,
   "metadata": {},
   "outputs": [
    {
     "data": {
      "text/html": [
       "<div class='gpresult'><h2>Messages</h2><div id='messages' data-messages='[\"Start Time: Saturday, April 22, 2023 12:30:08 AM\",\"Dissolving...\",\"Succeeded at Saturday, April 22, 2023 12:30:15 AM (Elapsed Time: 7.30 seconds)\"]' data-show='true'><div id = 'default' /></div></div>"
      ],
      "text/plain": [
       "<Result 'C:/Users/bento/final_project/woodpeckerNC/woodpeckerNC.gdb\\\\nc_state_boundary'>"
      ]
     },
     "execution_count": 4,
     "metadata": {},
     "output_type": "execute_result"
    }
   ],
   "source": [
    "arcpy.management.Dissolve(nc_shp_file , \"nc_state_boundary\", None, None, \n",
    "                                \"SINGLE_PART\", \"DISSOLVE_LINES\")"
   ]
  },
  {
   "cell_type": "code",
   "execution_count": 5,
   "metadata": {},
   "outputs": [
    {
     "data": {
      "text/html": [
       "<style>table td#td0  {font-weight: bold}</style><table class=\"notebook\"><colgroup><col style=\"width:45%\"></col><col style=\"width:55%\"></col></colgroup><tr><td id = \"td0\" title=\"name (Projected Coordinate System)\">name (Projected Coordinate System)</td><td title=\"NAD_1983_StatePlane_North_Carolina_FIPS_3200_Feet\">NAD_1983_StatePlane_North_Carolina_FIPS_3200_Feet</td></tr><tr><td id = \"td0\" title=\"factoryCode (WKID)\">factoryCode (WKID)</td><td title=\"2264\">2264</td></tr><tr><td id = \"td0\" title=\"linearUnitName (Linear Unit)\">linearUnitName (Linear Unit)</td><td title=\"Foot_US\">Foot_US</td></tr></table><div class=\"subtitle\">spatialReference.GCS</div><style>table td#td0  {font-weight: bold}</style><table class=\"notebook\"><colgroup><col style=\"width:45%\"></col><col style=\"width:55%\"></col></colgroup><tr><td id = \"td0\" title=\"name (Geographic Coordinate System)\">name (Geographic Coordinate System)</td><td title=\"GCS_North_American_1983\">GCS_North_American_1983</td></tr><tr><td id = \"td0\" title=\"factoryCode (WKID)\">factoryCode (WKID)</td><td title=\"4269\">4269</td></tr><tr><td id = \"td0\" title=\"angularUnitName (Angular Unit)\">angularUnitName (Angular Unit)</td><td title=\"Degree\">Degree</td></tr><tr><td id = \"td0\" title=\"datumName (Datum)\">datumName (Datum)</td><td title=\"D_North_American_1983\">D_North_American_1983</td></tr></table>"
      ],
      "text/plain": [
       "<SpatialReference object at 0x2888c393948[0x2888a758210]>"
      ]
     },
     "execution_count": 5,
     "metadata": {},
     "output_type": "execute_result"
    }
   ],
   "source": [
    "coord_sys"
   ]
  },
  {
   "cell_type": "code",
   "execution_count": 1,
   "metadata": {},
   "outputs": [
    {
     "ename": "NameError",
     "evalue": "name 'brd_rasters' is not defined",
     "output_type": "error",
     "traceback": [
      "\u001b[1;31m---------------------------------------------------------------------------\u001b[0m",
      "\u001b[1;31mNameError\u001b[0m                                 Traceback (most recent call last)",
      "\u001b[1;32m<ipython-input-1-5fe3e489313e>\u001b[0m in \u001b[0;36m<module>\u001b[1;34m\u001b[0m\n\u001b[0;32m      1\u001b[0m \u001b[1;31m# Loop through each trained raster\u001b[0m\u001b[1;33m\u001b[0m\u001b[1;33m\u001b[0m\u001b[1;33m\u001b[0m\u001b[0m\n\u001b[1;32m----> 2\u001b[1;33m \u001b[1;32mfor\u001b[0m \u001b[0mraster\u001b[0m \u001b[1;32min\u001b[0m \u001b[0mbrd_rasters\u001b[0m\u001b[1;33m.\u001b[0m\u001b[0mkeys\u001b[0m\u001b[1;33m(\u001b[0m\u001b[1;33m)\u001b[0m\u001b[1;33m:\u001b[0m\u001b[1;33m\u001b[0m\u001b[1;33m\u001b[0m\u001b[0m\n\u001b[0m\u001b[0;32m      3\u001b[0m     \u001b[1;31m# Get species name\u001b[0m\u001b[1;33m\u001b[0m\u001b[1;33m\u001b[0m\u001b[1;33m\u001b[0m\u001b[0m\n\u001b[0;32m      4\u001b[0m     \u001b[0mspecies_name\u001b[0m \u001b[1;33m=\u001b[0m \u001b[0mbrd_rasters\u001b[0m\u001b[1;33m[\u001b[0m\u001b[0mraster\u001b[0m\u001b[1;33m]\u001b[0m\u001b[1;33m\u001b[0m\u001b[1;33m\u001b[0m\u001b[0m\n\u001b[0;32m      5\u001b[0m     \u001b[0mprint\u001b[0m\u001b[1;33m(\u001b[0m\u001b[1;34mf\"Adding {species_name} raster layer to map...\"\u001b[0m\u001b[1;33m)\u001b[0m\u001b[1;33m\u001b[0m\u001b[1;33m\u001b[0m\u001b[0m\n",
      "\u001b[1;31mNameError\u001b[0m: name 'brd_rasters' is not defined"
     ]
    }
   ],
   "source": [
    "# Add to GDB if needed\n",
    "arcpy.management.DefineProjection(\"nc_state_boundary_projected\", coord_sys)\n"
   ]
  },
  {
   "cell_type": "markdown",
   "metadata": {},
   "source": []
  },
  {
   "cell_type": "code",
   "execution_count": 6,
   "metadata": {},
   "outputs": [
    {
     "data": {
      "text/plain": [
       "False"
      ]
     },
     "execution_count": 6,
     "metadata": {},
     "output_type": "execute_result"
    }
   ],
   "source": [
    "arcpy.SpatialReference().loadFromString('PROJCS[\"NAD_1983_StatePlane_North_Carolina_FIPS_3200_Feet\",GEOGCS[\"GCS_North_American_1983\",DATUM[\"D_North_American_1983\",SPHEROID[\"GRS_1980\",6378137.0,298.257222101]],PRIMEM[\"Greenwich\",0.0],UNIT[\"Degree\",0.0174532925199433]],PROJECTION[\"Lambert_Conformal_Conic\"],PARAMETER[\"False_Easting\",2000000.002616666],PARAMETER[\"False_Northing\",0.0],PARAMETER[\"Central_Meridian\",-79.0],PARAMETER[\"Standard_Parallel_1\",34.33333333333334],PARAMETER[\"Standard_Parallel_2\",36.16666666666666],PARAMETER[\"Latitude_Of_Origin\",33.75],UNIT[\"Foot_US\",0.3048006096012192]]') == coord_sys"
   ]
  },
  {
   "cell_type": "code",
   "execution_count": 11,
   "metadata": {},
   "outputs": [
    {
     "data": {
      "text/plain": [
       "'PROJCS[\"NAD_1983_StatePlane_North_Carolina_FIPS_3200_Feet\",GEOGCS[\"GCS_North_American_1983\",DATUM[\"D_North_American_1983\",SPHEROID[\"GRS_1980\",6378137.0,298.257222101]],PRIMEM[\"Greenwich\",0.0],UNIT[\"Degree\",0.0174532925199433]],PROJECTION[\"Lambert_Conformal_Conic\"],PARAMETER[\"False_Easting\",2000000.002616666],PARAMETER[\"False_Northing\",0.0],PARAMETER[\"Central_Meridian\",-79.0],PARAMETER[\"Standard_Parallel_1\",34.33333333333334],PARAMETER[\"Standard_Parallel_2\",36.16666666666666],PARAMETER[\"Latitude_Of_Origin\",33.75],UNIT[\"Foot_US\",0.3048006096012192]];-121841900 -93659000 3048.00609601219;-100000 10000;-100000 10000;3.28083333333333E-03;0.001;0.001;IsHighPrecision'"
      ]
     },
     "execution_count": 11,
     "metadata": {},
     "output_type": "execute_result"
    }
   ],
   "source": [
    "coord_sys.exportToString()"
   ]
  },
  {
   "cell_type": "code",
   "execution_count": 8,
   "metadata": {},
   "outputs": [
    {
     "data": {
      "text/plain": [
       "False"
      ]
     },
     "execution_count": 8,
     "metadata": {},
     "output_type": "execute_result"
    }
   ],
   "source": [
    "coord_sys.exportToString() == 'PROJCS[\"NAD_1983_StatePlane_North_Carolina_FIPS_3200_Feet\",GEOGCS[\"GCS_North_American_1983\",DATUM[\"D_North_American_1983\",SPHEROID[\"GRS_1980\",6378137.0,298.257222101]],PRIMEM[\"Greenwich\",0.0],UNIT[\"Degree\",0.0174532925199433]],PROJECTION[\"Lambert_Conformal_Conic\"],PARAMETER[\"False_Easting\",2000000.002616666],PARAMETER[\"False_Northing\",0.0],PARAMETER[\"Central_Meridian\",-79.0],PARAMETER[\"Standard_Parallel_1\",34.33333333333334],PARAMETER[\"Standard_Parallel_2\",36.16666666666666],PARAMETER[\"Latitude_Of_Origin\",33.75],UNIT[\"Foot_US\",0.3048006096012192]]'\n"
   ]
  }
 ],
 "metadata": {
  "kernelspec": {
   "display_name": "Python 3",
   "language": "python",
   "name": "python3"
  },
  "language_info": {
   "codemirror_mode": {
    "name": "ipython",
    "version": 3
   },
   "file_extension": ".py",
   "mimetype": "text/x-python",
   "name": "python",
   "nbconvert_exporter": "python",
   "pygments_lexer": "ipython3",
   "version": "3.7.11"
  },
  "orig_nbformat": 4
 },
 "nbformat": 4,
 "nbformat_minor": 2
}
